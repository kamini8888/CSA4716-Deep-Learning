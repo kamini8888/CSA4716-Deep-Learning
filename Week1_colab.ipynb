{
  "nbformat": 4,
  "nbformat_minor": 0,
  "metadata": {
    "colab": {
      "provenance": []
    },
    "kernelspec": {
      "name": "python3",
      "display_name": "Python 3"
    },
    "language_info": {
      "name": "python"
    }
  },
  "cells": [
    {
      "cell_type": "markdown",
      "source": [
        "# Week 1 - Machine Learning Basics\n",
        "\n",
        "This notebook includes:\n",
        "- Importing necessary libraries\n",
        "- Reading dataset using read_csv()\n",
        "- Displaying first 5 rows\n",
        "- Printing dataset information\n",
        "\n"
      ],
      "metadata": {
        "id": "Uf2z-rjPpcNS"
      }
    },
    {
      "cell_type": "markdown",
      "source": [
        "## 1. Import Libraries\n",
        "Import the necessary libraries:  \n",
        "- pandas for data manipulation  \n",
        "- numpy for numerical operations  \n",
        "- matplotlib and seaborn for visualization\n"
      ],
      "metadata": {
        "id": "vTOYgDGQpruG"
      }
    },
    {
      "cell_type": "code",
      "execution_count": 2,
      "metadata": {
        "id": "a-DaviSepZOx"
      },
      "outputs": [],
      "source": [
        "import pandas as pd\n",
        "import numpy as np\n",
        "import matplotlib.pyplot as plt\n",
        "import seaborn as sns\n"
      ]
    },
    {
      "cell_type": "markdown",
      "source": [
        "## 2. Read the Dataset\n",
        "\n",
        "Use `read_csv()` to load the dataset from a file path.  \n",
        "Replace `'your_file.csv'` with your actual file name.\n"
      ],
      "metadata": {
        "id": "PDWmeimNpxV2"
      }
    },
    {
      "cell_type": "code",
      "source": [
        "df = pd.read_csv('/content/crop.csv')  # Example: 'data.csv'\n"
      ],
      "metadata": {
        "id": "2fp05vfcpurR"
      },
      "execution_count": 3,
      "outputs": []
    },
    {
      "cell_type": "markdown",
      "source": [
        "## 3. Display First 5 Rows\n",
        "\n",
        "Use `head()` to view the top 5 records from the dataset.\n"
      ],
      "metadata": {
        "id": "jbOJQ8mbqRGA"
      }
    },
    {
      "cell_type": "code",
      "source": [
        "print(\"First 5 rows of the dataset:\")\n",
        "print(df.head())\n"
      ],
      "metadata": {
        "colab": {
          "base_uri": "https://localhost:8080/"
        },
        "id": "g6odoNfQqO64",
        "outputId": "50033d38-33d2-45da-a387-352032a752a3"
      },
      "execution_count": 6,
      "outputs": [
        {
          "output_type": "stream",
          "name": "stdout",
          "text": [
            "First 5 rows of the dataset:\n",
            "    N   P   K  temperature   humidity        ph    rainfall label\n",
            "0  90  42  43    20.879744  82.002744  6.502985  202.935536  rice\n",
            "1  85  58  41    21.770462  80.319644  7.038096  226.655537  rice\n",
            "2  60  55  44    23.004459  82.320763  7.840207  263.964248  rice\n",
            "3  74  35  40    26.491096  80.158363  6.980401  242.864034  rice\n",
            "4  78  42  42    20.130175  81.604873  7.628473  262.717340  rice\n"
          ]
        }
      ]
    },
    {
      "cell_type": "markdown",
      "source": [
        "## 4. Dataset Information\n",
        "\n",
        "Use `info()` to understand the structure, column types, and missing values.\n"
      ],
      "metadata": {
        "id": "7VWtqNTdqcTu"
      }
    },
    {
      "cell_type": "code",
      "source": [
        "print(\"Dataset Information:\")\n",
        "print(df.info())\n"
      ],
      "metadata": {
        "colab": {
          "base_uri": "https://localhost:8080/"
        },
        "id": "Lg7wEZbUqURS",
        "outputId": "a674bff4-dd08-40de-d273-7bc7ff1875d3"
      },
      "execution_count": 7,
      "outputs": [
        {
          "output_type": "stream",
          "name": "stdout",
          "text": [
            "Dataset Information:\n",
            "<class 'pandas.core.frame.DataFrame'>\n",
            "RangeIndex: 2200 entries, 0 to 2199\n",
            "Data columns (total 8 columns):\n",
            " #   Column       Non-Null Count  Dtype  \n",
            "---  ------       --------------  -----  \n",
            " 0   N            2200 non-null   int64  \n",
            " 1   P            2200 non-null   int64  \n",
            " 2   K            2200 non-null   int64  \n",
            " 3   temperature  2200 non-null   float64\n",
            " 4   humidity     2200 non-null   float64\n",
            " 5   ph           2200 non-null   float64\n",
            " 6   rainfall     2200 non-null   float64\n",
            " 7   label        2200 non-null   object \n",
            "dtypes: float64(4), int64(3), object(1)\n",
            "memory usage: 137.6+ KB\n",
            "None\n"
          ]
        }
      ]
    },
    {
      "cell_type": "code",
      "source": [],
      "metadata": {
        "id": "cYgjZKInqfVd"
      },
      "execution_count": null,
      "outputs": []
    }
  ]
}